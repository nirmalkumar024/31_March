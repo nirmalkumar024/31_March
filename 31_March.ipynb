{
 "cells": [
  {
   "cell_type": "markdown",
   "id": "cbb19789-c193-4262-962b-b52458f37f7c",
   "metadata": {},
   "source": [
    "Q1.What are the key steps involved in building an end-to-end web application, from development to deployment on the cloud?"
   ]
  },
  {
   "cell_type": "markdown",
   "id": "41aec63e-ba61-49b4-bc80-d1587c1c81ae",
   "metadata": {},
   "source": [
    "There are several steps involves in building an web application and their deployment on the cloud are following:-\n",
    "step1:- write html code for structure the code.\n",
    "step2:- write css code for displace the window.\n",
    "step3:- write the project code with the help of python and their library.\n",
    "step4:- check in the google.\n",
    "step5:-link the code with github.\n",
    "step6:-link the github code to your cloud(AWS)"
   ]
  },
  {
   "cell_type": "markdown",
   "id": "c5ac6c06-40ed-43fd-bc0e-ac305d37a372",
   "metadata": {},
   "source": [
    "Q2.Explain the difference between traditional web hosting and cloud hosting."
   ]
  },
  {
   "cell_type": "markdown",
   "id": "eac1c401-6cc2-4a18-a962-3160256fab3f",
   "metadata": {},
   "source": [
    "traditional web hosting:-\n",
    "Data is stored on a single server—Shared, VPS, or Dedicated.\n",
    "Limited scalability.\n",
    "The performance or page loading speed may vary depending on the hosting type and increasing traffic. \n",
    "Offers less security—especially if you don’t take regular backups since it relies on a single server.\n",
    "cloud hosting:-\n",
    "Data is stored on multiple servers. \n",
    "Cloud Hosting is highly scalable and works best for growing websites with increasing traffic. \n",
    "Since Cloud Hosting offers low-density servers with easy scalability and advanced caching—you get high website performance and page loading speed. \n",
    "Offers maximum data security as even if a single server fails or renders inaccessible, the data from another server gets restored to keep the website running"
   ]
  },
  {
   "cell_type": "markdown",
   "id": "b6215da8-84c9-4fc1-b72f-f00dd7475729",
   "metadata": {},
   "source": [
    "Q3.How do you choose the right cloud provider for your application deployment, and what factors should you consider?"
   ]
  },
  {
   "cell_type": "markdown",
   "id": "64610c07-4222-4382-bdfa-7a9d7ba67ce4",
   "metadata": {},
   "source": [
    "We can choose the deployment of the aplication to the cloud, we have to care about theire scaliblity, security and hight speed on multiple server."
   ]
  },
  {
   "cell_type": "markdown",
   "id": "1b063489-fbaf-4e57-9cff-060fd66c374d",
   "metadata": {},
   "source": [
    "Q4. How do you design and build a responsive user interface for your web application, and what are some best practices to follow?"
   ]
  },
  {
   "cell_type": "markdown",
   "id": "591a1811-6cf5-43dd-9532-7f649d15b2a0",
   "metadata": {},
   "source": [
    "we have to desing and build a responsive user interface of our web application that it simple and the user are easily understand the what the application does what it need to respond."
   ]
  },
  {
   "cell_type": "markdown",
   "id": "341bda8d-1507-4047-830e-0189ad05d454",
   "metadata": {},
   "source": [
    "Q5. How do you integrate the machine learning model with the user interface for the Algerian Forest Fires project(which we discussed in class), and what APIs or libraries can you use for this purpose?"
   ]
  },
  {
   "cell_type": "markdown",
   "id": "49ce9e88-7151-47ff-b035-a393caeef0f4",
   "metadata": {},
   "source": [
    "we have predict the area of the forest where and how much are affected to the fire, so we have to use  to deploy in aws interface with simple data containg and user friendly interface."
   ]
  }
 ],
 "metadata": {
  "kernelspec": {
   "display_name": "Python 3 (ipykernel)",
   "language": "python",
   "name": "python3"
  },
  "language_info": {
   "codemirror_mode": {
    "name": "ipython",
    "version": 3
   },
   "file_extension": ".py",
   "mimetype": "text/x-python",
   "name": "python",
   "nbconvert_exporter": "python",
   "pygments_lexer": "ipython3",
   "version": "3.10.8"
  }
 },
 "nbformat": 4,
 "nbformat_minor": 5
}
